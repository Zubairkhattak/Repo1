{
 "cells": [
  {
   "cell_type": "markdown",
   "id": "11bda2c3-ba4a-4bdc-9662-007b57a17cc4",
   "metadata": {
    "tags": []
   },
   "source": [
    "# Data Science Tools and Ecosystem"
   ]
  },
  {
   "cell_type": "markdown",
   "id": "ba59c8e2-8f0e-4778-b49e-c1cfd3ddef0f",
   "metadata": {},
   "source": [
    "In this notebook, Data Science Tools and Ecosystem are summarized."
   ]
  },
  {
   "cell_type": "markdown",
   "id": "047557e7-04a9-4bee-8b5b-d43c8dbee976",
   "metadata": {},
   "source": [
    "**Objectives**\n",
    "* Popular Data Science Languages\n",
    "* Commonly Used Libraries\n",
    "* Arithmetic Expressions"
   ]
  },
  {
   "cell_type": "markdown",
   "id": "1ba44e15-5275-4fe9-9a4b-29f42b3798f7",
   "metadata": {},
   "source": [
    "Some of the popular languages that Data Scientists use are:\n",
    "1. Python\n",
    "2. R\n",
    "3. Java"
   ]
  },
  {
   "cell_type": "markdown",
   "id": "d5ecf312-9be9-4061-adc7-393913ea5b25",
   "metadata": {},
   "source": [
    "Some of the commonly used libraries used by Data Scientists include:\n",
    "1. TensorFlow\n",
    "2. NumPy\n",
    "3. SciPy \n",
    "4. Pandas\n",
    "5. Matplotlib \n",
    "6. Keras"
   ]
  },
  {
   "cell_type": "markdown",
   "id": "53a81b8f-9946-4852-80e2-af3b9c1730ae",
   "metadata": {},
   "source": [
    "|Data Science Tools|\n",
    "-------------------\n",
    "|  RStudio       | \n",
    "|  Apache Spark  | \n",
    "|  TensorFlow    | "
   ]
  },
  {
   "cell_type": "markdown",
   "id": "56f64240-c39e-4e79-b96d-777d3cd84504",
   "metadata": {},
   "source": [
    "### Below are a few examples of evaluating arithmetic expressions in Python"
   ]
  },
  {
   "cell_type": "code",
   "execution_count": 1,
   "id": "19c21f49-6ae1-4d55-b05a-5bd6251d7bf7",
   "metadata": {
    "tags": []
   },
   "outputs": [
    {
     "data": {
      "text/plain": [
       "17"
      ]
     },
     "execution_count": 1,
     "metadata": {},
     "output_type": "execute_result"
    }
   ],
   "source": [
    "# This a simple arithmetic expression to mutiply then add integers\n",
    "(3*4)+5"
   ]
  },
  {
   "cell_type": "code",
   "execution_count": 2,
   "id": "83484ca2-fb4a-499c-807c-933533202914",
   "metadata": {
    "tags": []
   },
   "outputs": [
    {
     "data": {
      "text/plain": [
       "3.3333333333333335"
      ]
     },
     "execution_count": 2,
     "metadata": {},
     "output_type": "execute_result"
    }
   ],
   "source": [
    "# This will convert 200 minutes to hours by diving by 60\n",
    "200/60"
   ]
  },
  {
   "cell_type": "markdown",
   "id": "06f175d6-4de8-49c9-a220-a988f3ca0ce9",
   "metadata": {
    "tags": []
   },
   "source": [
    "## Author\n",
    "Muhammad Zubair Khan"
   ]
  },
  {
   "cell_type": "code",
   "execution_count": null,
   "id": "699e1b18-8187-4551-bfc3-955eaf6c0710",
   "metadata": {},
   "outputs": [],
   "source": []
  }
 ],
 "metadata": {
  "kernelspec": {
   "display_name": "Python",
   "language": "python",
   "name": "conda-env-python-py"
  },
  "language_info": {
   "codemirror_mode": {
    "name": "ipython",
    "version": 3
   },
   "file_extension": ".py",
   "mimetype": "text/x-python",
   "name": "python",
   "nbconvert_exporter": "python",
   "pygments_lexer": "ipython3",
   "version": "3.7.12"
  }
 },
 "nbformat": 4,
 "nbformat_minor": 5
}
